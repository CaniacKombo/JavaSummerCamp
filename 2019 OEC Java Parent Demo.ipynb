{
 "cells": [
  {
   "cell_type": "markdown",
   "metadata": {},
   "source": [
    "# 2019 OEC Java Parent Demo"
   ]
  },
  {
   "cell_type": "markdown",
   "metadata": {},
   "source": [
    "**Problem 1**"
   ]
  },
  {
   "cell_type": "code",
   "execution_count": 13,
   "metadata": {},
   "outputs": [
    {
     "name": "stdout",
     "output_type": "stream",
     "text": [
      "28\n",
      "5\n"
     ]
    }
   ],
   "source": [
    "/*Write a program that does the following:*/\n",
    "//Given five positive decimal numbers:\n",
    "//1) Store and print each number\n",
    "//2) Convert each number to the nearest integer\n",
    "//3) Print the sum and average of the five integers\n",
    "\n",
    "//Example \n",
    "//input: 10.5, 0.4, 2.3, 9.9, 4.6\n",
    "//Sum: 28   Avg: 5\n",
    "\n",
    "//Your code below\n",
    "double[] a = new double[]{10.5, 0.4, 2.3, 9.9, 4.6};\n",
    "\n",
    "int suma = 0;\n",
    "\n",
    "for (int i = 0; i<a.length; i++)\n",
    "{\n",
    "    //int b = (int) a[i];\n",
    "    int b = (int) Math.round(a[i]);\n",
    "    suma += b;\n",
    "}\n",
    "\n",
    "System.out.println(suma);\n",
    "System.out.println(suma/a.length);"
   ]
  },
  {
   "cell_type": "markdown",
   "metadata": {},
   "source": [
    "**Problem 2**"
   ]
  },
  {
   "cell_type": "code",
   "execution_count": 18,
   "metadata": {},
   "outputs": [
    {
     "name": "stdout",
     "output_type": "stream",
     "text": [
      "Your answer: Allowed | Correct answer: Allowed\n",
      "Your answer: Not Allowed | Correct answer: Not Allowed\n",
      "Your answer: Not Allowed | Correct answer: Not Allowed\n",
      "Your answer: Allowed | Correct answer: Allowed\n",
      "Your answer: Not Allowed | Correct answer: Not Allowed\n",
      "Your answer: Allowed | Correct answer: Allowed\n",
      "Your answer: Not Allowed | Correct answer: Not Allowed\n"
     ]
    }
   ],
   "source": [
    "//The permission a child has to ride a coaster\n",
    "//at the local theme park is dependent on the \n",
    "//child's height.\n",
    "//A child is either allowed to ride, is not\n",
    "//allowed to ride, or is allowed to ride as\n",
    "//long as a parent or guardian tags along.\n",
    "\n",
    "//Given the following class, determine if a child\n",
    "//is allowed to ride the coaster if the rules are:\n",
    "//1) Not allowed to ride if below 36 inches\n",
    "//2) Allowed to ride if between 36 and 48 inches\n",
    "//   as long as a parent is present\n",
    "//3) Allowed to ride if taller than 48 inches\n",
    "\n",
    "//Complete the function canRide(). \n",
    "//Do not change the signature.\n",
    "//You should return \"Allowed\" or \"Not Allowed\" based\n",
    "//on the rules above.\n",
    "\n",
    "class Child {\n",
    "\n",
    "    public int height;\n",
    "    public boolean withParent;\n",
    "    \n",
    "    public Child(int h, boolean wp) {\n",
    "        this.height = h;\n",
    "        this.withParent = wp;\n",
    "    }\n",
    "    \n",
    "    public String canRide() {\n",
    "        /***Your code below***/\n",
    "        if (this.height > 48)\n",
    "        {\n",
    "            return \"Allowed\";\n",
    "        }\n",
    "        else if ((this.height >= 36 && this.height <= 48) && this.withParent == true)\n",
    "        {\n",
    "            return \"Allowed\";\n",
    "        }\n",
    "        else\n",
    "        {\n",
    "            return \"Not Allowed\";\n",
    "        }\n",
    "        /***Your code above***/\n",
    "    }\n",
    "}\n",
    "\n",
    "/***********Test Cases************/\n",
    "Child stephen = new Child(49, true);\n",
    "System.out.println(\"Your answer: \" + stephen.canRide() + \" | Correct answer: Allowed\");\n",
    "Child elena = new Child(48, false);\n",
    "System.out.println(\"Your answer: \" + elena.canRide() + \" | Correct answer: Not Allowed\");\n",
    "Child patricia = new Child(35, true);\n",
    "System.out.println(\"Your answer: \" + patricia.canRide() + \" | Correct answer: Not Allowed\");\n",
    "Child nadia = new Child(48, true);\n",
    "System.out.println(\"Your answer: \" + nadia.canRide() + \" | Correct answer: Allowed\");\n",
    "Child patrick = new Child(36, false);\n",
    "System.out.println(\"Your answer: \" + patrick.canRide() + \" | Correct answer: Not Allowed\");\n",
    "Child ned = new Child(36, true);\n",
    "System.out.println(\"Your answer: \" + ned.canRide() + \" | Correct answer: Allowed\");\n",
    "Child natasha = new Child(40, false);\n",
    "System.out.println(\"Your answer: \" + natasha.canRide() + \" | Correct answer: Not Allowed\");\n"
   ]
  },
  {
   "cell_type": "markdown",
   "metadata": {},
   "source": [
    "**Problem 3**"
   ]
  },
  {
   "cell_type": "code",
   "execution_count": 26,
   "metadata": {},
   "outputs": [
    {
     "name": "stdout",
     "output_type": "stream",
     "text": [
      "Your answer: 10.0:12.0:12.96\n"
     ]
    }
   ],
   "source": [
    "/******Cash Register******\n",
    "*  To make a profit, a local store marks up\n",
    "*  the prices of it's items by a certain percentage.\n",
    "*  Write a program that reads the original price of\n",
    "*  the item sold, the percentage of the marked-up price,\n",
    "*  and the sales tax rate. The program then outputs the \n",
    "*  original price of the item, the store's selling price,\n",
    "*  and the final price of the item.\n",
    "*/\n",
    "\n",
    "/*Example:\n",
    "* Original price: 9.99, mark up: 3%, sales tax: 9%\n",
    "*\n",
    "* Results:\n",
    "* Original price: 9.99, marked up price: 10.29,\n",
    "* Final price: 11.22\n",
    "*/\n",
    "\n",
    "//Your code below.\n",
    "double[] profit (double orig, double percent, double tax)\n",
    "{\n",
    "    double[] retarray = new double[]{0, 0, 0};\n",
    "    \n",
    "    double howmuch;\n",
    "    double howmuchtax;\n",
    "    \n",
    "    howmuch = orig * (1+percent);\n",
    "    howmuchtax = howmuch * (1+tax);\n",
    "    \n",
    "    retarray[0] = orig;\n",
    "    retarray[1] = howmuch;\n",
    "    retarray[2] = howmuchtax;\n",
    "    \n",
    "    return retarray;\n",
    "       \n",
    "}\n",
    "\n",
    "double[] retarray = new double[]{0, 0, 0};\n",
    "retarray = profit(10.00, .2, .08);\n",
    "System.out.println(\"Your answer: \" + retarray[0] + \":\" + retarray[1] + \":\" + retarray[2]);\n"
   ]
  },
  {
   "cell_type": "markdown",
   "metadata": {},
   "source": [
    "**Challenge Problem**\n",
    "\n",
    "Write a \"simulation\" of the game Odds and Evens.<br>\n",
    "You can find the rules of the game on Wikipeida:<br>\n",
    "https://en.wikipedia.org/wiki/Odds_and_evens_(hand_game)#Playing\n",
    "\n",
    "You should define 2 classes: one class to represent players,<br>\n",
    "and another to control the simulation.\n"
   ]
  },
  {
   "cell_type": "code",
   "execution_count": null,
   "metadata": {},
   "outputs": [],
   "source": [
    "//Your code below.\n",
    "class player ()\n",
    "{\n",
    "    \n",
    "}\n",
    "class simulation \n",
    "{\n",
    "    \n",
    "}\n"
   ]
  }
 ],
 "metadata": {
  "kernelspec": {
   "display_name": "Java",
   "language": "java",
   "name": "java"
  },
  "language_info": {
   "codemirror_mode": "java",
   "file_extension": ".jshell",
   "mimetype": "text/x-java-source",
   "name": "Java",
   "pygments_lexer": "java",
   "version": "12.0.1+12"
  }
 },
 "nbformat": 4,
 "nbformat_minor": 2
}
